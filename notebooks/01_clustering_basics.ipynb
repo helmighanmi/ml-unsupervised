{
 "cells": [
  {
   "cell_type": "markdown",
   "id": "ae19edd5",
   "metadata": {},
   "source": [
    "# Clustering Basics"
   ]
  },
  {
   "cell_type": "code",
   "execution_count": null,
   "id": "ae586827",
   "metadata": {},
   "outputs": [],
   "source": [
    "#This notebook demonstrates KMeans, DBSCAN, HDBSCAN, and Agglomerative clustering on toy datasets."
   ]
  },
  {
   "cell_type": "code",
   "execution_count": null,
   "id": "9b083967",
   "metadata": {},
   "outputs": [],
   "source": [
    "from sklearn.datasets import make_moons, make_blobs"
   ]
  },
  {
   "cell_type": "code",
   "execution_count": null,
   "id": "299240c6",
   "metadata": {},
   "outputs": [],
   "source": [
    "from src.clustering import run_kmeans, run_dbscan, run_hdbscan, run_agglomerative"
   ]
  },
  {
   "cell_type": "code",
   "execution_count": null,
   "id": "d7504671",
   "metadata": {},
   "outputs": [],
   "source": [
    "from src.visualization import plot_clusters"
   ]
  },
  {
   "cell_type": "code",
   "execution_count": null,
   "id": "dd526e32",
   "metadata": {},
   "outputs": [],
   "source": []
  },
  {
   "cell_type": "markdown",
   "id": "85942e01",
   "metadata": {},
   "source": [
    "# Generate synthetic datasets"
   ]
  },
  {
   "cell_type": "code",
   "execution_count": null,
   "id": "a3a49307",
   "metadata": {},
   "outputs": [],
   "source": [
    "X_moons, _ = make_moons(n_samples=300, noise=0.07, random_state=42)"
   ]
  },
  {
   "cell_type": "code",
   "execution_count": null,
   "id": "f9485ee1",
   "metadata": {},
   "outputs": [],
   "source": [
    "X_blobs, _ = make_blobs(n_samples=300, centers=4, random_state=42, cluster_std=0.7)"
   ]
  },
  {
   "cell_type": "markdown",
   "id": "c8367dcc",
   "metadata": {},
   "source": [
    "# Run clustering"
   ]
  },
  {
   "cell_type": "code",
   "execution_count": null,
   "id": "a1caa571",
   "metadata": {},
   "outputs": [],
   "source": [
    "labels_kmeans, _ = run_kmeans(X_moons, n_clusters=2)"
   ]
  },
  {
   "cell_type": "code",
   "execution_count": null,
   "id": "bfee3632",
   "metadata": {},
   "outputs": [],
   "source": [
    "labels_dbscan = run_dbscan(X_moons, eps=0.3, min_samples=5)"
   ]
  },
  {
   "cell_type": "code",
   "execution_count": null,
   "id": "f7bab98b",
   "metadata": {},
   "outputs": [],
   "source": [
    "labels_hdbscan = run_hdbscan(X_moons, min_cluster_size=10)"
   ]
  },
  {
   "cell_type": "code",
   "execution_count": null,
   "id": "e9d82108",
   "metadata": {},
   "outputs": [],
   "source": [
    "labels_aggl = run_agglomerative(X_moons, n_clusters=2)"
   ]
  },
  {
   "cell_type": "markdown",
   "id": "6d97f082",
   "metadata": {},
   "source": [
    "# Visualize"
   ]
  },
  {
   "cell_type": "code",
   "execution_count": null,
   "id": "7486fa42",
   "metadata": {},
   "outputs": [],
   "source": [
    "plot_clusters(X_moons, labels_kmeans, title='KMeans on Moons').show()"
   ]
  },
  {
   "cell_type": "code",
   "execution_count": null,
   "id": "4cc25b08",
   "metadata": {},
   "outputs": [],
   "source": [
    "plot_clusters(X_moons, labels_dbscan, title='DBSCAN on Moons').show()"
   ]
  },
  {
   "cell_type": "code",
   "execution_count": null,
   "id": "d97abb37",
   "metadata": {},
   "outputs": [],
   "source": [
    "plot_clusters(X_moons, labels_hdbscan, title='HDBSCAN on Moons').show()"
   ]
  },
  {
   "cell_type": "code",
   "execution_count": null,
   "id": "ec072db5",
   "metadata": {},
   "outputs": [],
   "source": [
    "plot_clusters(X_moons, labels_aggl, title='Agglomerative on Moons').show()"
   ]
  }
 ],
 "metadata": {
  "language_info": {
   "name": "python"
  }
 },
 "nbformat": 4,
 "nbformat_minor": 5
}
