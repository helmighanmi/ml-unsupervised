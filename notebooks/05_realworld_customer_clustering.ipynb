{
 "cells": [
  {
   "cell_type": "markdown",
   "id": "3faf5648",
   "metadata": {},
   "source": [
    "# 🛍️ Real-World Clustering Application: Customer Segmentation"
   ]
  },
  {
   "cell_type": "markdown",
   "id": "6d9c0af3",
   "metadata": {},
   "source": [
    "This notebook demonstrates clustering on the **Mall Customers dataset** (available on Kaggle)."
   ]
  },
  {
   "cell_type": "markdown",
   "id": "d0231292",
   "metadata": {},
   "source": [
    "We will:\n",
    "1. Load the dataset\n",
    "2. Explore the data\n",
    "3. Apply dimensionality reduction\n",
    "4. Cluster customers using KMeans and HDBSCAN\n",
    "5. Evaluate and visualize results"
   ]
  },
  {
   "cell_type": "code",
   "execution_count": null,
   "id": "54e44522",
   "metadata": {},
   "outputs": [],
   "source": [
    "import pandas as pd\n",
    "import numpy as np\n",
    "from sklearn.preprocessing import StandardScaler\n",
    "from sklearn.decomposition import PCA\n",
    "from src.clustering import run_kmeans, run_hdbscan\n",
    "from src.evaluation import evaluate_clustering\n",
    "from src.visualization import plot_embedding, plot_clusters"
   ]
  },
  {
   "cell_type": "markdown",
   "id": "4f3b9af3",
   "metadata": {},
   "source": [
    "# === 1. Load dataset ===\n",
    "### Download from: https://www.kaggle.com/datasets/vjchoudhary7/customer-segmentation-tutorial-in-python\n"
   ]
  },
  {
   "cell_type": "code",
   "execution_count": null,
   "id": "033ce8f9",
   "metadata": {},
   "outputs": [],
   "source": [
    "df = pd.read_csv('data/Mall_Customers.csv')\n",
    "df.head()"
   ]
  },
  {
   "cell_type": "markdown",
   "id": "b4ffb042",
   "metadata": {},
   "source": [
    "# === 2. Select features ==="
   ]
  },
  {
   "cell_type": "code",
   "execution_count": null,
   "id": "c59bf115",
   "metadata": {},
   "outputs": [],
   "source": [
    "X = df[[\"Age\", \"Annual Income (k$)\", \"Spending Score (1-100)\"]].values\n",
    "X_scaled = StandardScaler().fit_transform(X)\n",
    "print('Shape:', X_scaled.shape)"
   ]
  },
  {
   "cell_type": "markdown",
   "id": "99d5a116",
   "metadata": {},
   "source": [
    "# === 3. PCA for 2D embedding ===\n"
   ]
  },
  {
   "cell_type": "code",
   "execution_count": null,
   "id": "b0812460",
   "metadata": {},
   "outputs": [],
   "source": [
    "pca = PCA(n_components=2, random_state=42)\n",
    "X_pca = pca.fit_transform(X_scaled)\n",
    "plot_embedding(X_pca, labels=None, title='PCA embedding of customers').show()"
   ]
  },
  {
   "cell_type": "markdown",
   "id": "b8064e5b",
   "metadata": {},
   "source": [
    "# === 4. Clustering ==="
   ]
  },
  {
   "cell_type": "code",
   "execution_count": null,
   "id": "b052ff8f",
   "metadata": {},
   "outputs": [],
   "source": [
    "labels_kmeans, _ = run_kmeans(X_pca, n_clusters=5)\n",
    "labels_hdbscan = run_hdbscan(X_pca, min_cluster_size=20)\n",
    "plot_clusters(X_pca, labels_kmeans,\n",
    "              title='KMeans Clusters (PCA-reduced)').show()\n",
    "plot_clusters(X_pca, labels_hdbscan,\n",
    "              title='HDBSCAN Clusters (PCA-reduced)').show()"
   ]
  },
  {
   "cell_type": "markdown",
   "id": "996512da",
   "metadata": {},
   "source": [
    "# === 5. Evaluation ==="
   ]
  },
  {
   "cell_type": "code",
   "execution_count": null,
   "id": "b035784b",
   "metadata": {},
   "outputs": [],
   "source": [
    "print('KMeans metrics:', evaluate_clustering(X_pca, labels_kmeans))\n",
    "print('HDBSCAN metrics:', evaluate_clustering(X_pca, labels_hdbscan))"
   ]
  },
  {
   "cell_type": "markdown",
   "id": "dc866337",
   "metadata": {},
   "source": [
    "# ✅ Conclusion\n",
    "- KMeans segments customers into **fixed 5 groups**.\n",
    "- HDBSCAN finds clusters **adaptively**, may detect outliers as noise.\n",
    "- PCA helps reduce noise and makes clusters more separable."
   ]
  }
 ],
 "metadata": {
  "language_info": {
   "name": "python"
  }
 },
 "nbformat": 4,
 "nbformat_minor": 5
}
