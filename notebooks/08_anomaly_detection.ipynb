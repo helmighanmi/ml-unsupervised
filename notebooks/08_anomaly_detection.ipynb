{
 "cells": [
  {
   "cell_type": "markdown",
   "id": "c9558eb3",
   "metadata": {},
   "source": [
    "# 🚨 Anomaly Detection in Unsupervised Learning"
   ]
  },
  {
   "cell_type": "markdown",
   "id": "5f8cc6f4",
   "metadata": {},
   "source": [
    "This notebook demonstrates **Isolation Forest, One-Class SVM, and Local Outlier Factor (LOF)** for anomaly detection."
   ]
  },
  {
   "cell_type": "code",
   "execution_count": null,
   "id": "2028beae",
   "metadata": {},
   "outputs": [],
   "source": [
    "import numpy as np\n",
    "from sklearn.datasets import make_blobs\n",
    "from src.anomaly_detection import run_isolation_forest, run_oneclass_svm, run_lof\n",
    "from src.visualization import plot_clusters"
   ]
  },
  {
   "cell_type": "markdown",
   "id": "cd7674f6",
   "metadata": {},
   "source": [
    "# === 1. Generate synthetic dataset with outliers ===\n",
    "X, _ = make_blobs(n_samples=200, centers=2, cluster_std=0.60, random_state=42)\n",
    "rng = np.random.RandomState(42)\n",
    "outliers = rng.uniform(low=-6, high=6, size=(20, 2))\n",
    "X = np.vstack([X, outliers])\n",
    "print('Dataset shape with outliers:', X.shape)"
   ]
  },
  {
   "cell_type": "markdown",
   "id": "b2c37d94",
   "metadata": {},
   "source": [
    "# === 2. Isolation Forest ===\n",
    "labels_if, _ = run_isolation_forest(X, contamination=0.1)\n",
    "plot_clusters(X, labels_if, title='Isolation Forest').show()"
   ]
  },
  {
   "cell_type": "markdown",
   "id": "5af92810",
   "metadata": {},
   "source": [
    "# === 3. One-Class SVM ===\n",
    "labels_svm, _ = run_oneclass_svm(X, nu=0.1)\n",
    "plot_clusters(X, labels_svm, title='One-Class SVM').show()"
   ]
  },
  {
   "cell_type": "markdown",
   "id": "d9c0977c",
   "metadata": {},
   "source": [
    "# === 4. Local Outlier Factor ===\n",
    "labels_lof, _ = run_lof(X, contamination=0.1)\n",
    "plot_clusters(X, labels_lof, title='Local Outlier Factor').show()"
   ]
  },
  {
   "cell_type": "markdown",
   "id": "73777d0d",
   "metadata": {},
   "source": [
    "# ✅ Conclusion\n",
    "- Isolation Forest works well for high-dimensional data.\n",
    "- One-Class SVM captures complex boundaries but can be slow.\n",
    "- LOF is local density-based and great for irregular clusters."
   ]
  }
 ],
 "metadata": {},
 "nbformat": 4,
 "nbformat_minor": 5
}
