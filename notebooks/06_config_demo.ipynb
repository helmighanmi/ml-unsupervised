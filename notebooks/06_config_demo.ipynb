{
 "cells": [
  {
   "cell_type": "markdown",
   "id": "c69b7ad1",
   "metadata": {},
   "source": [
    "# 🔧 Using config.yaml for parameters"
   ]
  },
  {
   "cell_type": "markdown",
   "id": "fe17e24d",
   "metadata": {},
   "source": [
    "#This notebook shows how to use configuration from `config.yaml` instead of hardcoding values."
   ]
  },
  {
   "cell_type": "code",
   "execution_count": null,
   "id": "b4eec5ce",
   "metadata": {},
   "outputs": [],
   "source": [
    "from sklearn.datasets import make_moons"
   ]
  },
  {
   "cell_type": "code",
   "execution_count": null,
   "id": "258c9fd6",
   "metadata": {},
   "outputs": [],
   "source": [
    "from src.config import load_config"
   ]
  },
  {
   "cell_type": "code",
   "execution_count": null,
   "id": "8a1e5cc8",
   "metadata": {},
   "outputs": [],
   "source": [
    "from src.clustering import run_kmeans, run_hdbscan"
   ]
  },
  {
   "cell_type": "code",
   "execution_count": null,
   "id": "d7b39976",
   "metadata": {},
   "outputs": [],
   "source": [
    "from src.visualization import plot_clusters"
   ]
  },
  {
   "cell_type": "code",
   "execution_count": null,
   "id": "f9487694",
   "metadata": {},
   "outputs": [],
   "source": []
  },
  {
   "cell_type": "markdown",
   "id": "1f9ac20f",
   "metadata": {},
   "source": [
    "# Generate data"
   ]
  },
  {
   "cell_type": "code",
   "execution_count": null,
   "id": "0b2ce91b",
   "metadata": {},
   "outputs": [],
   "source": [
    "X, _ = make_moons(n_samples=300, noise=0.07, random_state=42)"
   ]
  },
  {
   "cell_type": "code",
   "execution_count": null,
   "id": "6a4b5681",
   "metadata": {},
   "outputs": [],
   "source": []
  },
  {
   "cell_type": "markdown",
   "id": "0a0d190f",
   "metadata": {},
   "source": [
    "# Load config"
   ]
  },
  {
   "cell_type": "code",
   "execution_count": null,
   "id": "4b3a5e0b",
   "metadata": {},
   "outputs": [],
   "source": [
    "config = load_config()"
   ]
  },
  {
   "cell_type": "code",
   "execution_count": null,
   "id": "8673c9c7",
   "metadata": {},
   "outputs": [],
   "source": []
  },
  {
   "cell_type": "markdown",
   "id": "ab25149c",
   "metadata": {},
   "source": [
    "# Run KMeans with config params"
   ]
  },
  {
   "cell_type": "code",
   "execution_count": null,
   "id": "69b4a650",
   "metadata": {},
   "outputs": [],
   "source": [
    "params_kmeans = config['clustering']['kmeans']"
   ]
  },
  {
   "cell_type": "code",
   "execution_count": null,
   "id": "e148016d",
   "metadata": {},
   "outputs": [],
   "source": [
    "labels_kmeans, _ = run_kmeans(X, **params_kmeans)"
   ]
  },
  {
   "cell_type": "code",
   "execution_count": null,
   "id": "77ad64bc",
   "metadata": {},
   "outputs": [],
   "source": [
    "plot_clusters(X, labels_kmeans, title='KMeans from config.yaml').show()"
   ]
  },
  {
   "cell_type": "code",
   "execution_count": null,
   "id": "820c5d88",
   "metadata": {},
   "outputs": [],
   "source": []
  },
  {
   "cell_type": "markdown",
   "id": "42741532",
   "metadata": {},
   "source": [
    "# Run HDBSCAN with config params"
   ]
  },
  {
   "cell_type": "code",
   "execution_count": null,
   "id": "c7e0057f",
   "metadata": {},
   "outputs": [],
   "source": [
    "params_hdb = config['clustering']['hdbscan']"
   ]
  },
  {
   "cell_type": "code",
   "execution_count": null,
   "id": "18ca7e13",
   "metadata": {},
   "outputs": [],
   "source": [
    "labels_hdbscan = run_hdbscan(X, **params_hdb)"
   ]
  },
  {
   "cell_type": "code",
   "execution_count": null,
   "id": "0c518754",
   "metadata": {},
   "outputs": [],
   "source": [
    "plot_clusters(X, labels_hdbscan, title='HDBSCAN from config.yaml').show()"
   ]
  }
 ],
 "metadata": {
  "language_info": {
   "name": "python"
  }
 },
 "nbformat": 4,
 "nbformat_minor": 5
}
