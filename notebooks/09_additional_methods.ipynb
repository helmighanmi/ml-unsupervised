{
 "cells": [
  {
   "cell_type": "markdown",
   "id": "54f86154",
   "metadata": {},
   "source": [
    "# 🔬 Additional Unsupervised Learning Methods"
   ]
  },
  {
   "cell_type": "markdown",
   "id": "5c767e11",
   "metadata": {},
   "source": [
    "#This notebook explores **extra clustering and dimensionality reduction methods**: GMM, Spectral Clustering, Birch, Kernel PCA, ICA, NMF, Factor Analysis."
   ]
  },
  {
   "cell_type": "code",
   "execution_count": null,
   "id": "30ca6eff",
   "metadata": {},
   "outputs": [],
   "source": [
    "import numpy as np\n",
    "from sklearn.datasets import make_moons, load_digits\n",
    "from src.clustering import run_gmm, run_spectral, run_birch\n",
    "from src.dimensionality_reduction import run_kernel_pca, run_ica, run_nmf, run_factor_analysis\n",
    "from src.visualization import plot_clusters, plot_embedding"
   ]
  },
  {
   "cell_type": "markdown",
   "id": "bc5d9e2c",
   "metadata": {},
   "source": [
    "# 1. Clustering with GMM, Spectral, Birch"
   ]
  },
  {
   "cell_type": "code",
   "execution_count": null,
   "id": "942ef68f",
   "metadata": {},
   "outputs": [],
   "source": [
    "X, _ = make_moons(n_samples=300, noise=0.07, random_state=42)\n",
    "labels_gmm, _ = run_gmm(X, n_components=2)\n",
    "labels_spectral, _ = run_spectral(X, n_clusters=2)\n",
    "labels_birch, _ = run_birch(X, n_clusters=2)\n",
    "plot_clusters(X, labels_gmm, title='Gaussian Mixture Model').show()\n",
    "plot_clusters(X, labels_spectral, title='Spectral Clustering').show()\n",
    "plot_clusters(X, labels_birch, title='Birch Clustering').show()"
   ]
  },
  {
   "cell_type": "markdown",
   "id": "81d73a3a",
   "metadata": {},
   "source": [
    "# 2. Dimensionality Reduction with Kernel PCA, ICA, NMF, Factor Analysis"
   ]
  },
  {
   "cell_type": "code",
   "execution_count": null,
   "id": "ff31c29a",
   "metadata": {},
   "outputs": [],
   "source": [
    "X_digits, _ = load_digits(return_X_y=True)\n",
    "X_kpca, _ = run_kernel_pca(X_digits, n_components=2)\n",
    "X_ica, _ = run_ica(X_digits, n_components=2)\n",
    "X_nmf, _ = run_nmf(X_digits, n_components=2)\n",
    "X_fa, _ = run_factor_analysis(X_digits, n_components=2)\n",
    "plot_embedding(X_kpca, title='Kernel PCA').show()\n",
    "plot_embedding(X_ica, title='ICA').show()\n",
    "plot_embedding(X_nmf, title='NMF').show()\n",
    "plot_embedding(X_fa, title='Factor Analysis').show()"
   ]
  },
  {
   "cell_type": "markdown",
   "id": "c9a1bdc7",
   "metadata": {},
   "source": []
  }
 ],
 "metadata": {
  "language_info": {
   "name": "python"
  }
 },
 "nbformat": 4,
 "nbformat_minor": 5
}
