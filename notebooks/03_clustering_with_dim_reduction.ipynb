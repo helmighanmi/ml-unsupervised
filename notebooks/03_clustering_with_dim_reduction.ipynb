{
 "cells": [
  {
   "cell_type": "markdown",
   "id": "04e48a85",
   "metadata": {},
   "source": [
    "# Clustering with Dimensionality Reduction"
   ]
  },
  {
   "cell_type": "code",
   "execution_count": null,
   "id": "cb7d14e6",
   "metadata": {},
   "outputs": [],
   "source": [
    "We reduce data with PCA/UMAP, then cluster using KMeans and HDBSCAN."
   ]
  },
  {
   "cell_type": "code",
   "execution_count": null,
   "id": "bd86b02b",
   "metadata": {},
   "outputs": [],
   "source": [
    "import pandas as pd"
   ]
  },
  {
   "cell_type": "code",
   "execution_count": null,
   "id": "e0604d1e",
   "metadata": {},
   "outputs": [],
   "source": [
    "from sklearn.datasets import load_digits"
   ]
  },
  {
   "cell_type": "code",
   "execution_count": null,
   "id": "ef66567c",
   "metadata": {},
   "outputs": [],
   "source": [
    "from src.dimensionality_reduction import run_pca, run_umap"
   ]
  },
  {
   "cell_type": "code",
   "execution_count": null,
   "id": "4489452c",
   "metadata": {},
   "outputs": [],
   "source": [
    "from src.clustering import run_kmeans, run_hdbscan"
   ]
  },
  {
   "cell_type": "code",
   "execution_count": null,
   "id": "216d784e",
   "metadata": {},
   "outputs": [],
   "source": [
    "from src.evaluation import evaluate_clustering"
   ]
  },
  {
   "cell_type": "code",
   "execution_count": null,
   "id": "0e6c3654",
   "metadata": {},
   "outputs": [],
   "source": [
    "from src.visualization import plot_embedding, plot_clusters"
   ]
  },
  {
   "cell_type": "code",
   "execution_count": null,
   "id": "7e4b7952",
   "metadata": {},
   "outputs": [],
   "source": []
  },
  {
   "cell_type": "markdown",
   "id": "49ccf600",
   "metadata": {},
   "source": [
    "# Load dataset"
   ]
  },
  {
   "cell_type": "code",
   "execution_count": null,
   "id": "1a3a8b7e",
   "metadata": {},
   "outputs": [],
   "source": [
    "X, y = load_digits(return_X_y=True)"
   ]
  },
  {
   "cell_type": "code",
   "execution_count": null,
   "id": "77fe8b78",
   "metadata": {},
   "outputs": [],
   "source": []
  },
  {
   "cell_type": "markdown",
   "id": "7c6df242",
   "metadata": {},
   "source": [
    "# Reduce with UMAP"
   ]
  },
  {
   "cell_type": "code",
   "execution_count": null,
   "id": "a9ad5afd",
   "metadata": {},
   "outputs": [],
   "source": [
    "X_umap = run_umap(X, n_components=2)"
   ]
  },
  {
   "cell_type": "code",
   "execution_count": null,
   "id": "f5d6dfae",
   "metadata": {},
   "outputs": [],
   "source": [
    "plot_embedding(X_umap, labels=y, title='UMAP embedding with true labels').show()"
   ]
  },
  {
   "cell_type": "code",
   "execution_count": null,
   "id": "9f37312b",
   "metadata": {},
   "outputs": [],
   "source": []
  },
  {
   "cell_type": "markdown",
   "id": "471017ee",
   "metadata": {},
   "source": [
    "# Apply clustering"
   ]
  },
  {
   "cell_type": "code",
   "execution_count": null,
   "id": "3d0ce039",
   "metadata": {},
   "outputs": [],
   "source": [
    "labels_kmeans, _ = run_kmeans(X_umap, n_clusters=10)"
   ]
  },
  {
   "cell_type": "code",
   "execution_count": null,
   "id": "f579e5d1",
   "metadata": {},
   "outputs": [],
   "source": [
    "labels_hdbscan = run_hdbscan(X_umap, min_cluster_size=30)"
   ]
  },
  {
   "cell_type": "code",
   "execution_count": null,
   "id": "8046aaf3",
   "metadata": {},
   "outputs": [],
   "source": []
  },
  {
   "cell_type": "markdown",
   "id": "e405ced6",
   "metadata": {},
   "source": [
    "# Evaluate"
   ]
  },
  {
   "cell_type": "code",
   "execution_count": null,
   "id": "1808bfe8",
   "metadata": {},
   "outputs": [],
   "source": [
    "print('KMeans:', evaluate_clustering(X_umap, labels_kmeans))"
   ]
  },
  {
   "cell_type": "code",
   "execution_count": null,
   "id": "1b5fd2dd",
   "metadata": {},
   "outputs": [],
   "source": [
    "print('HDBSCAN:', evaluate_clustering(X_umap, labels_hdbscan))"
   ]
  },
  {
   "cell_type": "code",
   "execution_count": null,
   "id": "5a788af2",
   "metadata": {},
   "outputs": [],
   "source": []
  },
  {
   "cell_type": "markdown",
   "id": "6df45f83",
   "metadata": {},
   "source": [
    "# Visualize clusters"
   ]
  },
  {
   "cell_type": "code",
   "execution_count": null,
   "id": "7db5b50d",
   "metadata": {},
   "outputs": [],
   "source": [
    "plot_clusters(X_umap, labels_kmeans, title='KMeans on UMAP').show()"
   ]
  },
  {
   "cell_type": "code",
   "execution_count": null,
   "id": "8cb0141e",
   "metadata": {},
   "outputs": [],
   "source": [
    "plot_clusters(X_umap, labels_hdbscan, title='HDBSCAN on UMAP').show()"
   ]
  }
 ],
 "metadata": {},
 "nbformat": 4,
 "nbformat_minor": 5
}
