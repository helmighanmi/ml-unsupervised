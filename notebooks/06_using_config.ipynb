{
 "cells": [
  {
   "cell_type": "markdown",
   "id": "c4dd7344",
   "metadata": {},
   "source": [
    "# 📑 Using Config YAML for Clustering Parameters"
   ]
  },
  {
   "cell_type": "markdown",
   "id": "06826f82",
   "metadata": {},
   "source": [
    "This notebook demonstrates how to use `config.yaml` to manage hyperparameters."
   ]
  },
  {
   "cell_type": "code",
   "execution_count": null,
   "id": "cf8e5f0c",
   "metadata": {},
   "outputs": [],
   "source": [
    "from sklearn.datasets import make_blobs\n",
    "from src.clustering import run_kmeans, run_hdbscan\n",
    "from src.config import load_config\n",
    "from src.visualization import plot_clusters"
   ]
  },
  {
   "cell_type": "markdown",
   "id": "4e5a3c67",
   "metadata": {},
   "source": [
    "# Generate synthetic data\n",
    "X, _ = make_blobs(n_samples=300, centers=4, random_state=42, cluster_std=0.6)\n",
    "config = load_config()\n",
    "print(config)"
   ]
  },
  {
   "cell_type": "markdown",
   "id": "dbbd63de",
   "metadata": {},
   "source": [
    "# Run KMeans using config params\n",
    "params = config['clustering']['kmeans']\n",
    "labels_kmeans, centers = run_kmeans(X, **params)\n",
    "plot_clusters(X, labels_kmeans, title='KMeans with config.yaml params').show()"
   ]
  },
  {
   "cell_type": "markdown",
   "id": "725495f7",
   "metadata": {},
   "source": [
    "# Run HDBSCAN using config params\n",
    "params_hdb = config['clustering']['hdbscan']\n",
    "labels_hdbscan = run_hdbscan(X, **params_hdb)\n",
    "plot_clusters(X, labels_hdbscan, title='HDBSCAN with config.yaml params').show()"
   ]
  }
 ],
 "metadata": {},
 "nbformat": 4,
 "nbformat_minor": 5
}
