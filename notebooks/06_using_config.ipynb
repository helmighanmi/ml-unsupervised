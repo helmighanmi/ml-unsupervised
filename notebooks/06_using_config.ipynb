{
 "cells": [
  {
   "cell_type": "markdown",
   "id": "c4dd7344",
   "metadata": {},
   "source": [
    "# 📑 Using Config YAML for Clustering Parameters"
   ]
  },
  {
   "cell_type": "markdown",
   "id": "06826f82",
   "metadata": {},
   "source": [
    "#This notebook demonstrates how to use `config.yaml` to manage hyperparameters."
   ]
  },
  {
   "cell_type": "code",
   "execution_count": null,
   "id": "cf8e5f0c",
   "metadata": {},
   "outputs": [],
   "source": [
    "from sklearn.datasets import make_blobs\n",
    "from src.clustering import run_kmeans, run_hdbscan\n",
    "from src.config import load_config\n",
    "from src.visualization import plot_clusters"
   ]
  },
  {
   "cell_type": "markdown",
   "id": "4e5a3c67",
   "metadata": {},
   "source": [
    "# Generate synthetic data"
   ]
  },
  {
   "cell_type": "code",
   "execution_count": null,
   "id": "bb7dd795",
   "metadata": {},
   "outputs": [
    {
     "ename": "",
     "evalue": "",
     "output_type": "error",
     "traceback": [
      "\u001b[1;31mRunning cells with 'Python 3.10.10' requires the ipykernel package.\n",
      "\u001b[1;31m<a href='command:jupyter.createPythonEnvAndSelectController'>Create a Python Environment</a> with the required packages.\n",
      "\u001b[1;31mOr install 'ipykernel' using the command: '/usr/local/bin/python3 -m pip install ipykernel -U --user --force-reinstall'"
     ]
    }
   ],
   "source": [
    "X, _ = make_blobs(n_samples=300, centers=4, random_state=42, cluster_std=0.6)\n",
    "config = load_config()\n",
    "print(config)"
   ]
  },
  {
   "cell_type": "markdown",
   "id": "dbbd63de",
   "metadata": {},
   "source": [
    "# Run KMeans using config params\n"
   ]
  },
  {
   "cell_type": "code",
   "execution_count": null,
   "id": "7b67b250",
   "metadata": {},
   "outputs": [],
   "source": [
    "params = config['clustering']['kmeans']\n",
    "labels_kmeans, centers = run_kmeans(X, **params)\n",
    "plot_clusters(X, labels_kmeans, title='KMeans with config.yaml params').show()"
   ]
  },
  {
   "cell_type": "markdown",
   "id": "725495f7",
   "metadata": {},
   "source": [
    "# Run HDBSCAN using config params\n"
   ]
  },
  {
   "cell_type": "code",
   "execution_count": null,
   "id": "c37b13c7",
   "metadata": {},
   "outputs": [],
   "source": [
    "params_hdb = config['clustering']['hdbscan']\n",
    "labels_hdbscan = run_hdbscan(X, **params_hdb)\n",
    "plot_clusters(X, labels_hdbscan,\n",
    "              title='HDBSCAN with config.yaml params').show()"
   ]
  }
 ],
 "metadata": {
  "kernelspec": {
   "display_name": "Python 3",
   "language": "python",
   "name": "python3"
  },
  "language_info": {
   "name": "python",
   "version": "3.10.10"
  }
 },
 "nbformat": 4,
 "nbformat_minor": 5
}
