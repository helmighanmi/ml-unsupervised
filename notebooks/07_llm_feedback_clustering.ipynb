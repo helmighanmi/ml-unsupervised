{
 "cells": [
  {
   "cell_type": "markdown",
   "id": "82a4d3ce",
   "metadata": {},
   "source": [
    "# 🤖 Clustering User Feedback with LLM Embeddings"
   ]
  },
  {
   "cell_type": "markdown",
   "id": "1e89478a",
   "metadata": {},
   "source": [
    "This notebook demonstrates how to use **LLM sentence embeddings** for clustering tasks like sentiment discovery and user feedback grouping."
   ]
  },
  {
   "cell_type": "code",
   "execution_count": null,
   "id": "f33df017",
   "metadata": {},
   "outputs": [],
   "source": [
    "from sentence_transformers import SentenceTransformer\n",
    "from sklearn.decomposition import PCA\n",
    "from src.clustering import run_hdbscan, run_kmeans\n",
    "from src.visualization import plot_embedding, plot_clusters\n"
   ]
  },
  {
   "cell_type": "markdown",
   "id": "aa931dbf",
   "metadata": {},
   "source": [
    "# 1. Load model and sample data"
   ]
  },
  {
   "cell_type": "code",
   "execution_count": null,
   "id": "c6a4ff6b",
   "metadata": {},
   "outputs": [],
   "source": [
    "model = SentenceTransformer('all-MiniLM-L6-v2')\n",
    "texts = [\n",
    "    'The app crashes when I try to log in',\n",
    "    'Payment process was smooth and fast',\n",
    "    'Customer support was very helpful',\n",
    "    'Delivery was late by 3 days',\n",
    "    'I love the new design',\n",
    "    'Checkout keeps failing with error code 500',\n",
    "    'App is slow and unresponsive sometimes',\n",
    "    'Great shopping experience overall',\n",
    "]"
   ]
  },
  {
   "cell_type": "markdown",
   "id": "eaee8a03",
   "metadata": {},
   "source": [
    "# 2. Encode into embeddings"
   ]
  },
  {
   "cell_type": "code",
   "execution_count": null,
   "id": "a84204da",
   "metadata": {},
   "outputs": [],
   "source": [
    "embeddings = model.encode(texts)\n",
    "print('Embeddings shape:', embeddings.shape)"
   ]
  },
  {
   "cell_type": "markdown",
   "id": "afa3f204",
   "metadata": {},
   "source": [
    "# 3. Dimensionality reduction for visualization"
   ]
  },
  {
   "cell_type": "code",
   "execution_count": null,
   "id": "ef04ba55",
   "metadata": {},
   "outputs": [],
   "source": [
    "X_pca = PCA(n_components=2, random_state=42).fit_transform(embeddings)\n",
    "plot_embedding(X_pca, labels=None, title='PCA-reduced embeddings').show()"
   ]
  },
  {
   "cell_type": "markdown",
   "id": "fb9c9052",
   "metadata": {},
   "source": [
    "# 4. Apply clustering"
   ]
  },
  {
   "cell_type": "code",
   "execution_count": null,
   "id": "5527214e",
   "metadata": {},
   "outputs": [],
   "source": [
    "labels_hdb = run_hdbscan(X_pca, min_cluster_size=2)\n",
    "labels_kmeans, _ = run_kmeans(X_pca, n_clusters=3)\n",
    "plot_clusters(X_pca, labels_hdb, title='HDBSCAN clusters on feedback').show()\n",
    "plot_clusters(X_pca, labels_kmeans, title='KMeans clusters on feedback').show()"
   ]
  },
  {
   "cell_type": "markdown",
   "id": "5e81a3c2",
   "metadata": {},
   "source": [
    "# 5. Inspect clustering results"
   ]
  },
  {
   "cell_type": "code",
   "execution_count": null,
   "id": "d5766c99",
   "metadata": {},
   "outputs": [
    {
     "ename": "",
     "evalue": "",
     "output_type": "error",
     "traceback": [
      "\u001b[1;31mRunning cells with 'Python 3.10.10' requires the ipykernel package.\n",
      "\u001b[1;31m<a href='command:jupyter.createPythonEnvAndSelectController'>Create a Python Environment</a> with the required packages.\n",
      "\u001b[1;31mOr install 'ipykernel' using the command: '/usr/local/bin/python3 -m pip install ipykernel -U --user --force-reinstall'"
     ]
    }
   ],
   "source": [
    "for text, label in zip(texts, labels_hdb):\n",
    "    print(f'[{label}] {text}')"
   ]
  },
  {
   "cell_type": "markdown",
   "id": "f354e438",
   "metadata": {},
   "source": [
    "# ✅ Conclusion\n",
    "- HDBSCAN can automatically find themes (e.g., crashes, payment, design).\n",
    "- KMeans forces fixed groups (e.g., sentiment categories).\n",
    "- This approach works well for **sentiment clustering** and **feedback grouping**."
   ]
  }
 ],
 "metadata": {
  "kernelspec": {
   "display_name": "Python 3",
   "language": "python",
   "name": "python3"
  },
  "language_info": {
   "name": "python",
   "version": "3.10.10"
  }
 },
 "nbformat": 4,
 "nbformat_minor": 5
}
