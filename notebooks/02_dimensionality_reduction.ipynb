{
 "cells": [
  {
   "cell_type": "markdown",
   "id": "2aba4a66",
   "metadata": {},
   "source": [
    "# Dimensionality Reduction"
   ]
  },
  {
   "cell_type": "code",
   "execution_count": null,
   "id": "6c9477a7",
   "metadata": {},
   "outputs": [],
   "source": [
    "This notebook demonstrates PCA, t-SNE, and UMAP on digits dataset."
   ]
  },
  {
   "cell_type": "code",
   "execution_count": null,
   "id": "cf6a9649",
   "metadata": {},
   "outputs": [],
   "source": [
    "from sklearn.datasets import load_digits"
   ]
  },
  {
   "cell_type": "code",
   "execution_count": null,
   "id": "2fec5b1f",
   "metadata": {},
   "outputs": [],
   "source": [
    "from src.dimensionality_reduction import run_pca, run_tsne, run_umap"
   ]
  },
  {
   "cell_type": "code",
   "execution_count": null,
   "id": "ee4e4ba6",
   "metadata": {},
   "outputs": [],
   "source": [
    "from src.visualization import plot_embedding"
   ]
  },
  {
   "cell_type": "markdown",
   "id": "7a2e0b0b",
   "metadata": {},
   "source": [
    "# Load dataset"
   ]
  },
  {
   "cell_type": "code",
   "execution_count": null,
   "id": "d4edf933",
   "metadata": {},
   "outputs": [],
   "source": [
    "X, y = load_digits(return_X_y=True)"
   ]
  },
  {
   "cell_type": "markdown",
   "id": "29a117ee",
   "metadata": {},
   "source": [
    "# PCA"
   ]
  },
  {
   "cell_type": "code",
   "execution_count": null,
   "id": "fed1b89d",
   "metadata": {},
   "outputs": [],
   "source": [
    "X_pca, _ = run_pca(X, n_components=2)"
   ]
  },
  {
   "cell_type": "code",
   "execution_count": null,
   "id": "558c1b98",
   "metadata": {},
   "outputs": [],
   "source": [
    "plot_embedding(X_pca, labels=y, title='PCA (2D)').show()"
   ]
  },
  {
   "cell_type": "code",
   "execution_count": null,
   "id": "f8913dab",
   "metadata": {},
   "outputs": [],
   "source": []
  },
  {
   "cell_type": "markdown",
   "id": "a6dae799",
   "metadata": {},
   "source": [
    "# t-SNE"
   ]
  },
  {
   "cell_type": "code",
   "execution_count": null,
   "id": "04f7b431",
   "metadata": {},
   "outputs": [],
   "source": [
    "X_tsne = run_tsne(X, n_components=2, perplexity=30)"
   ]
  },
  {
   "cell_type": "code",
   "execution_count": null,
   "id": "16c6cbad",
   "metadata": {},
   "outputs": [],
   "source": [
    "plot_embedding(X_tsne, labels=y, title='t-SNE (2D)').show()"
   ]
  },
  {
   "cell_type": "code",
   "execution_count": null,
   "id": "31fd1f8b",
   "metadata": {},
   "outputs": [],
   "source": []
  },
  {
   "cell_type": "markdown",
   "id": "1421d7d3",
   "metadata": {},
   "source": [
    "# UMAP"
   ]
  },
  {
   "cell_type": "code",
   "execution_count": null,
   "id": "b16658da",
   "metadata": {},
   "outputs": [],
   "source": [
    "X_umap = run_umap(X, n_components=2)"
   ]
  },
  {
   "cell_type": "code",
   "execution_count": null,
   "id": "59ec508c",
   "metadata": {},
   "outputs": [],
   "source": [
    "plot_embedding(X_umap, labels=y, title='UMAP (2D)').show()"
   ]
  }
 ],
 "metadata": {
  "language_info": {
   "name": "python"
  }
 },
 "nbformat": 4,
 "nbformat_minor": 5
}
