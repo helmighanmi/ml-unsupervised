{
 "cells": [
  {
   "cell_type": "markdown",
   "id": "988b012c",
   "metadata": {},
   "source": [
    "# Pipelines and Inference"
   ]
  },
  {
   "cell_type": "code",
   "execution_count": null,
   "id": "3060c873",
   "metadata": {},
   "outputs": [],
   "source": [
    "Example of using sklearn pipelines for clustering workflow."
   ]
  },
  {
   "cell_type": "code",
   "execution_count": null,
   "id": "338e76b9",
   "metadata": {},
   "outputs": [],
   "source": [
    "import numpy as np"
   ]
  },
  {
   "cell_type": "code",
   "execution_count": null,
   "id": "b6ed41a0",
   "metadata": {},
   "outputs": [],
   "source": [
    "from sklearn.datasets import load_digits"
   ]
  },
  {
   "cell_type": "code",
   "execution_count": null,
   "id": "949df2fd",
   "metadata": {},
   "outputs": [],
   "source": [
    "from src.pipelines import clustering_pipeline"
   ]
  },
  {
   "cell_type": "code",
   "execution_count": null,
   "id": "015e6efe",
   "metadata": {},
   "outputs": [],
   "source": []
  },
  {
   "cell_type": "markdown",
   "id": "1222efee",
   "metadata": {},
   "source": [
    "# Load data"
   ]
  },
  {
   "cell_type": "code",
   "execution_count": null,
   "id": "19773a11",
   "metadata": {},
   "outputs": [],
   "source": [
    "X, _ = load_digits(return_X_y=True)"
   ]
  },
  {
   "cell_type": "code",
   "execution_count": null,
   "id": "3d96e31b",
   "metadata": {},
   "outputs": [],
   "source": []
  },
  {
   "cell_type": "markdown",
   "id": "bf66d4d8",
   "metadata": {},
   "source": [
    "# Create pipeline"
   ]
  },
  {
   "cell_type": "code",
   "execution_count": null,
   "id": "2a6c71dd",
   "metadata": {},
   "outputs": [],
   "source": [
    "pipe = clustering_pipeline(n_clusters=10)"
   ]
  },
  {
   "cell_type": "code",
   "execution_count": null,
   "id": "8991b358",
   "metadata": {},
   "outputs": [],
   "source": [
    "pipe.fit(X)"
   ]
  },
  {
   "cell_type": "code",
   "execution_count": null,
   "id": "6d6ec8f1",
   "metadata": {},
   "outputs": [],
   "source": []
  },
  {
   "cell_type": "markdown",
   "id": "f3f726ff",
   "metadata": {},
   "source": [
    "# Inference on a sample"
   ]
  },
  {
   "cell_type": "code",
   "execution_count": null,
   "id": "04ccb7a2",
   "metadata": {},
   "outputs": [],
   "source": [
    "sample = X[0].reshape(1, -1)"
   ]
  },
  {
   "cell_type": "code",
   "execution_count": null,
   "id": "a38fb7fb",
   "metadata": {},
   "outputs": [],
   "source": [
    "print('Cluster assignment:', pipe.predict(sample))"
   ]
  }
 ],
 "metadata": {},
 "nbformat": 4,
 "nbformat_minor": 5
}
